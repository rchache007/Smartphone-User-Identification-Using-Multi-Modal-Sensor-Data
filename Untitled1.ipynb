{
 "cells": [
  {
   "cell_type": "code",
   "execution_count": 5,
   "id": "33e346e0",
   "metadata": {},
   "outputs": [],
   "source": [
    "import pandas as pd\n",
    "from sklearn.model_selection import train_test_split\n",
    "from sklearn.svm import SVC\n",
    "from sklearn.metrics import classification_report"
   ]
  },
  {
   "cell_type": "code",
   "execution_count": 6,
   "id": "6795da31",
   "metadata": {},
   "outputs": [],
   "source": [
    "# Load the preprocessed data\n",
    "data = pd.read_csv('myTrainingData1.csv')"
   ]
  },
  {
   "cell_type": "code",
   "execution_count": 7,
   "id": "8765bccd",
   "metadata": {},
   "outputs": [
    {
     "name": "stdout",
     "output_type": "stream",
     "text": [
      "<class 'pandas.core.frame.DataFrame'>\n",
      "RangeIndex: 466074 entries, 0 to 466073\n",
      "Data columns (total 7 columns):\n",
      " #   Column     Non-Null Count   Dtype  \n",
      "---  ------     --------------   -----  \n",
      " 0   timestamp  466074 non-null  object \n",
      " 1   x-axis     466074 non-null  float64\n",
      " 2   y-axis     466074 non-null  float64\n",
      " 3   z-axis     466074 non-null  float64\n",
      " 4   SenorType  466074 non-null  object \n",
      " 5   Part       466074 non-null  object \n",
      " 6   UserID     466074 non-null  object \n",
      "dtypes: float64(3), object(4)\n",
      "memory usage: 24.9+ MB\n"
     ]
    }
   ],
   "source": [
    "data.info()"
   ]
  },
  {
   "cell_type": "code",
   "execution_count": 8,
   "id": "931236ce",
   "metadata": {},
   "outputs": [],
   "source": [
    "# Convert the timestamp column to datetime format\n",
    "data['timestamp'] = pd.to_datetime(data['timestamp'], format='%Y-%m-%d %H:%M:%S:%f')\n",
    "\n",
    "# Extract relevant features from the timestamp data\n",
    "data['hour'] = data['timestamp'].dt.hour\n",
    "data['minute'] = data['timestamp'].dt.minute\n",
    "data['second'] = data['timestamp'].dt.second"
   ]
  },
  {
   "cell_type": "code",
   "execution_count": 9,
   "id": "52260af7",
   "metadata": {},
   "outputs": [
    {
     "name": "stdout",
     "output_type": "stream",
     "text": [
      "<class 'pandas.core.frame.DataFrame'>\n",
      "RangeIndex: 466074 entries, 0 to 466073\n",
      "Data columns (total 10 columns):\n",
      " #   Column     Non-Null Count   Dtype         \n",
      "---  ------     --------------   -----         \n",
      " 0   timestamp  466074 non-null  datetime64[ns]\n",
      " 1   x-axis     466074 non-null  float64       \n",
      " 2   y-axis     466074 non-null  float64       \n",
      " 3   z-axis     466074 non-null  float64       \n",
      " 4   SenorType  466074 non-null  object        \n",
      " 5   Part       466074 non-null  object        \n",
      " 6   UserID     466074 non-null  object        \n",
      " 7   hour       466074 non-null  int64         \n",
      " 8   minute     466074 non-null  int64         \n",
      " 9   second     466074 non-null  int64         \n",
      "dtypes: datetime64[ns](1), float64(3), int64(3), object(3)\n",
      "memory usage: 35.6+ MB\n"
     ]
    }
   ],
   "source": [
    "data.info()"
   ]
  },
  {
   "cell_type": "code",
   "execution_count": 10,
   "id": "24c8b8c0",
   "metadata": {},
   "outputs": [],
   "source": [
    "X = data[['x-axis', 'y-axis', 'z-axis', 'SenorType', 'Part', 'hour', 'minute', 'second']]\n",
    "\n",
    "y = data[['UserID']]\n"
   ]
  },
  {
   "cell_type": "code",
   "execution_count": 11,
   "id": "4acc1bea",
   "metadata": {},
   "outputs": [
    {
     "data": {
      "text/html": [
       "<div>\n",
       "<style scoped>\n",
       "    .dataframe tbody tr th:only-of-type {\n",
       "        vertical-align: middle;\n",
       "    }\n",
       "\n",
       "    .dataframe tbody tr th {\n",
       "        vertical-align: top;\n",
       "    }\n",
       "\n",
       "    .dataframe thead th {\n",
       "        text-align: right;\n",
       "    }\n",
       "</style>\n",
       "<table border=\"1\" class=\"dataframe\">\n",
       "  <thead>\n",
       "    <tr style=\"text-align: right;\">\n",
       "      <th></th>\n",
       "      <th>x-axis</th>\n",
       "      <th>y-axis</th>\n",
       "      <th>z-axis</th>\n",
       "      <th>SenorType</th>\n",
       "      <th>Part</th>\n",
       "      <th>hour</th>\n",
       "      <th>minute</th>\n",
       "      <th>second</th>\n",
       "    </tr>\n",
       "  </thead>\n",
       "  <tbody>\n",
       "    <tr>\n",
       "      <th>0</th>\n",
       "      <td>-0.022371</td>\n",
       "      <td>-0.022371</td>\n",
       "      <td>-0.025566</td>\n",
       "      <td>gyroData</td>\n",
       "      <td>head</td>\n",
       "      <td>13</td>\n",
       "      <td>42</td>\n",
       "      <td>18</td>\n",
       "    </tr>\n",
       "    <tr>\n",
       "      <th>1</th>\n",
       "      <td>0.010653</td>\n",
       "      <td>0.002131</td>\n",
       "      <td>-0.023436</td>\n",
       "      <td>gyroData</td>\n",
       "      <td>head</td>\n",
       "      <td>13</td>\n",
       "      <td>42</td>\n",
       "      <td>19</td>\n",
       "    </tr>\n",
       "    <tr>\n",
       "      <th>2</th>\n",
       "      <td>-0.005326</td>\n",
       "      <td>0.001065</td>\n",
       "      <td>-0.051133</td>\n",
       "      <td>gyroData</td>\n",
       "      <td>head</td>\n",
       "      <td>13</td>\n",
       "      <td>42</td>\n",
       "      <td>19</td>\n",
       "    </tr>\n",
       "    <tr>\n",
       "      <th>3</th>\n",
       "      <td>-0.022371</td>\n",
       "      <td>0.020240</td>\n",
       "      <td>-0.007457</td>\n",
       "      <td>gyroData</td>\n",
       "      <td>head</td>\n",
       "      <td>13</td>\n",
       "      <td>42</td>\n",
       "      <td>19</td>\n",
       "    </tr>\n",
       "    <tr>\n",
       "      <th>4</th>\n",
       "      <td>0.053263</td>\n",
       "      <td>-0.024501</td>\n",
       "      <td>-0.099070</td>\n",
       "      <td>gyroData</td>\n",
       "      <td>head</td>\n",
       "      <td>13</td>\n",
       "      <td>42</td>\n",
       "      <td>19</td>\n",
       "    </tr>\n",
       "    <tr>\n",
       "      <th>...</th>\n",
       "      <td>...</td>\n",
       "      <td>...</td>\n",
       "      <td>...</td>\n",
       "      <td>...</td>\n",
       "      <td>...</td>\n",
       "      <td>...</td>\n",
       "      <td>...</td>\n",
       "      <td>...</td>\n",
       "    </tr>\n",
       "    <tr>\n",
       "      <th>466069</th>\n",
       "      <td>-0.215657</td>\n",
       "      <td>0.116428</td>\n",
       "      <td>0.273807</td>\n",
       "      <td>linearAccelDataM</td>\n",
       "      <td>torso-back</td>\n",
       "      <td>17</td>\n",
       "      <td>35</td>\n",
       "      <td>28</td>\n",
       "    </tr>\n",
       "    <tr>\n",
       "      <th>466070</th>\n",
       "      <td>-0.148377</td>\n",
       "      <td>0.095651</td>\n",
       "      <td>-0.507252</td>\n",
       "      <td>linearAccelDataM</td>\n",
       "      <td>torso-back</td>\n",
       "      <td>17</td>\n",
       "      <td>35</td>\n",
       "      <td>28</td>\n",
       "    </tr>\n",
       "    <tr>\n",
       "      <th>466071</th>\n",
       "      <td>-0.148377</td>\n",
       "      <td>0.095651</td>\n",
       "      <td>-0.507252</td>\n",
       "      <td>linearAccelDataM</td>\n",
       "      <td>torso-back</td>\n",
       "      <td>17</td>\n",
       "      <td>35</td>\n",
       "      <td>28</td>\n",
       "    </tr>\n",
       "    <tr>\n",
       "      <th>466072</th>\n",
       "      <td>-0.772910</td>\n",
       "      <td>-0.245263</td>\n",
       "      <td>1.409866</td>\n",
       "      <td>linearAccelDataM</td>\n",
       "      <td>torso-back</td>\n",
       "      <td>17</td>\n",
       "      <td>35</td>\n",
       "      <td>28</td>\n",
       "    </tr>\n",
       "    <tr>\n",
       "      <th>466073</th>\n",
       "      <td>-0.772910</td>\n",
       "      <td>-0.245263</td>\n",
       "      <td>1.409866</td>\n",
       "      <td>linearAccelDataM</td>\n",
       "      <td>torso-back</td>\n",
       "      <td>17</td>\n",
       "      <td>35</td>\n",
       "      <td>28</td>\n",
       "    </tr>\n",
       "  </tbody>\n",
       "</table>\n",
       "<p>466074 rows × 8 columns</p>\n",
       "</div>"
      ],
      "text/plain": [
       "          x-axis    y-axis    z-axis         SenorType        Part  hour  \\\n",
       "0      -0.022371 -0.022371 -0.025566          gyroData        head    13   \n",
       "1       0.010653  0.002131 -0.023436          gyroData        head    13   \n",
       "2      -0.005326  0.001065 -0.051133          gyroData        head    13   \n",
       "3      -0.022371  0.020240 -0.007457          gyroData        head    13   \n",
       "4       0.053263 -0.024501 -0.099070          gyroData        head    13   \n",
       "...          ...       ...       ...               ...         ...   ...   \n",
       "466069 -0.215657  0.116428  0.273807  linearAccelDataM  torso-back    17   \n",
       "466070 -0.148377  0.095651 -0.507252  linearAccelDataM  torso-back    17   \n",
       "466071 -0.148377  0.095651 -0.507252  linearAccelDataM  torso-back    17   \n",
       "466072 -0.772910 -0.245263  1.409866  linearAccelDataM  torso-back    17   \n",
       "466073 -0.772910 -0.245263  1.409866  linearAccelDataM  torso-back    17   \n",
       "\n",
       "        minute  second  \n",
       "0           42      18  \n",
       "1           42      19  \n",
       "2           42      19  \n",
       "3           42      19  \n",
       "4           42      19  \n",
       "...        ...     ...  \n",
       "466069      35      28  \n",
       "466070      35      28  \n",
       "466071      35      28  \n",
       "466072      35      28  \n",
       "466073      35      28  \n",
       "\n",
       "[466074 rows x 8 columns]"
      ]
     },
     "execution_count": 11,
     "metadata": {},
     "output_type": "execute_result"
    }
   ],
   "source": [
    "X"
   ]
  },
  {
   "cell_type": "code",
   "execution_count": 12,
   "id": "05d20fd0",
   "metadata": {},
   "outputs": [
    {
     "data": {
      "text/html": [
       "<div>\n",
       "<style scoped>\n",
       "    .dataframe tbody tr th:only-of-type {\n",
       "        vertical-align: middle;\n",
       "    }\n",
       "\n",
       "    .dataframe tbody tr th {\n",
       "        vertical-align: top;\n",
       "    }\n",
       "\n",
       "    .dataframe thead th {\n",
       "        text-align: right;\n",
       "    }\n",
       "</style>\n",
       "<table border=\"1\" class=\"dataframe\">\n",
       "  <thead>\n",
       "    <tr style=\"text-align: right;\">\n",
       "      <th></th>\n",
       "      <th>UserID</th>\n",
       "    </tr>\n",
       "  </thead>\n",
       "  <tbody>\n",
       "    <tr>\n",
       "      <th>0</th>\n",
       "      <td>User001</td>\n",
       "    </tr>\n",
       "    <tr>\n",
       "      <th>1</th>\n",
       "      <td>User001</td>\n",
       "    </tr>\n",
       "    <tr>\n",
       "      <th>2</th>\n",
       "      <td>User001</td>\n",
       "    </tr>\n",
       "    <tr>\n",
       "      <th>3</th>\n",
       "      <td>User001</td>\n",
       "    </tr>\n",
       "    <tr>\n",
       "      <th>4</th>\n",
       "      <td>User001</td>\n",
       "    </tr>\n",
       "    <tr>\n",
       "      <th>...</th>\n",
       "      <td>...</td>\n",
       "    </tr>\n",
       "    <tr>\n",
       "      <th>466069</th>\n",
       "      <td>User009</td>\n",
       "    </tr>\n",
       "    <tr>\n",
       "      <th>466070</th>\n",
       "      <td>User009</td>\n",
       "    </tr>\n",
       "    <tr>\n",
       "      <th>466071</th>\n",
       "      <td>User009</td>\n",
       "    </tr>\n",
       "    <tr>\n",
       "      <th>466072</th>\n",
       "      <td>User009</td>\n",
       "    </tr>\n",
       "    <tr>\n",
       "      <th>466073</th>\n",
       "      <td>User009</td>\n",
       "    </tr>\n",
       "  </tbody>\n",
       "</table>\n",
       "<p>466074 rows × 1 columns</p>\n",
       "</div>"
      ],
      "text/plain": [
       "         UserID\n",
       "0       User001\n",
       "1       User001\n",
       "2       User001\n",
       "3       User001\n",
       "4       User001\n",
       "...         ...\n",
       "466069  User009\n",
       "466070  User009\n",
       "466071  User009\n",
       "466072  User009\n",
       "466073  User009\n",
       "\n",
       "[466074 rows x 1 columns]"
      ]
     },
     "execution_count": 12,
     "metadata": {},
     "output_type": "execute_result"
    }
   ],
   "source": [
    "y"
   ]
  },
  {
   "cell_type": "code",
   "execution_count": 13,
   "id": "13d16622",
   "metadata": {},
   "outputs": [
    {
     "name": "stderr",
     "output_type": "stream",
     "text": [
      "C:\\Users\\psalu\\AppData\\Local\\Temp\\ipykernel_24332\\1977829049.py:3: SettingWithCopyWarning: \n",
      "A value is trying to be set on a copy of a slice from a DataFrame.\n",
      "Try using .loc[row_indexer,col_indexer] = value instead\n",
      "\n",
      "See the caveats in the documentation: https://pandas.pydata.org/pandas-docs/stable/user_guide/indexing.html#returning-a-view-versus-a-copy\n",
      "  X['SenorType'] = le.fit_transform(X['SenorType'])\n",
      "C:\\Users\\psalu\\AppData\\Local\\Temp\\ipykernel_24332\\1977829049.py:4: SettingWithCopyWarning: \n",
      "A value is trying to be set on a copy of a slice from a DataFrame.\n",
      "Try using .loc[row_indexer,col_indexer] = value instead\n",
      "\n",
      "See the caveats in the documentation: https://pandas.pydata.org/pandas-docs/stable/user_guide/indexing.html#returning-a-view-versus-a-copy\n",
      "  X['Part'] = le.fit_transform(X['Part'])\n"
     ]
    }
   ],
   "source": [
    "from sklearn.preprocessing import LabelEncoder\n",
    "le = LabelEncoder()\n",
    "X['SenorType'] = le.fit_transform(X['SenorType'])\n",
    "X['Part'] = le.fit_transform(X['Part'])"
   ]
  },
  {
   "cell_type": "code",
   "execution_count": 14,
   "id": "365b4420",
   "metadata": {},
   "outputs": [
    {
     "name": "stderr",
     "output_type": "stream",
     "text": [
      "C:\\Users\\psalu\\AppData\\Local\\Temp\\ipykernel_24332\\462011439.py:1: SettingWithCopyWarning: \n",
      "A value is trying to be set on a copy of a slice from a DataFrame.\n",
      "Try using .loc[row_indexer,col_indexer] = value instead\n",
      "\n",
      "See the caveats in the documentation: https://pandas.pydata.org/pandas-docs/stable/user_guide/indexing.html#returning-a-view-versus-a-copy\n",
      "  y['UserID'] = y['UserID'].astype('category')\n"
     ]
    }
   ],
   "source": [
    "y['UserID'] = y['UserID'].astype('category')"
   ]
  },
  {
   "cell_type": "code",
   "execution_count": 15,
   "id": "41df2e2c",
   "metadata": {},
   "outputs": [
    {
     "name": "stderr",
     "output_type": "stream",
     "text": [
      "C:\\Users\\psalu\\anaconda3\\lib\\site-packages\\sklearn\\utils\\validation.py:1143: DataConversionWarning: A column-vector y was passed when a 1d array was expected. Please change the shape of y to (n_samples, ), for example using ravel().\n",
      "  y = column_or_1d(y, warn=True)\n"
     ]
    }
   ],
   "source": [
    "# Train the SVM model\n",
    "svm = SVC(kernel='linear', C=1.0, random_state=42)\n",
    "model = svm.fit(X, y)"
   ]
  },
  {
   "cell_type": "code",
   "execution_count": null,
   "id": "6374e7b6",
   "metadata": {},
   "outputs": [],
   "source": []
  },
  {
   "cell_type": "code",
   "execution_count": 16,
   "id": "3e5e2bfd",
   "metadata": {},
   "outputs": [],
   "source": [
    "# Load the preprocessed data\n",
    "dataTest = pd.read_csv('myTestingData1.csv')"
   ]
  },
  {
   "cell_type": "code",
   "execution_count": 17,
   "id": "77a543eb",
   "metadata": {},
   "outputs": [],
   "source": [
    "# Convert the timestamp column to datetime format\n",
    "dataTest['timestamp'] = pd.to_datetime(dataTest['timestamp'], format='%Y-%m-%d %H:%M:%S:%f')\n",
    "\n",
    "# Extract relevant features from the timestamp data\n",
    "dataTest['hour'] = dataTest['timestamp'].dt.hour\n",
    "dataTest['minute'] = dataTest['timestamp'].dt.minute\n",
    "dataTest['second'] = dataTest['timestamp'].dt.second"
   ]
  },
  {
   "cell_type": "code",
   "execution_count": 18,
   "id": "235816e2",
   "metadata": {},
   "outputs": [],
   "source": [
    "XTest = data[['x-axis', 'y-axis', 'z-axis', 'SenorType', 'Part', 'hour', 'minute', 'second']]\n",
    "\n",
    "yTest = data[['UserID']]\n"
   ]
  },
  {
   "cell_type": "code",
   "execution_count": 19,
   "id": "5844e38b",
   "metadata": {},
   "outputs": [
    {
     "name": "stderr",
     "output_type": "stream",
     "text": [
      "C:\\Users\\psalu\\AppData\\Local\\Temp\\ipykernel_24332\\3611357993.py:1: SettingWithCopyWarning: \n",
      "A value is trying to be set on a copy of a slice from a DataFrame.\n",
      "Try using .loc[row_indexer,col_indexer] = value instead\n",
      "\n",
      "See the caveats in the documentation: https://pandas.pydata.org/pandas-docs/stable/user_guide/indexing.html#returning-a-view-versus-a-copy\n",
      "  XTest['SenorType'] = le.fit_transform(XTest['SenorType'])\n",
      "C:\\Users\\psalu\\AppData\\Local\\Temp\\ipykernel_24332\\3611357993.py:2: SettingWithCopyWarning: \n",
      "A value is trying to be set on a copy of a slice from a DataFrame.\n",
      "Try using .loc[row_indexer,col_indexer] = value instead\n",
      "\n",
      "See the caveats in the documentation: https://pandas.pydata.org/pandas-docs/stable/user_guide/indexing.html#returning-a-view-versus-a-copy\n",
      "  XTest['Part'] = le.fit_transform(XTest['Part'])\n"
     ]
    }
   ],
   "source": [
    "XTest['SenorType'] = le.fit_transform(XTest['SenorType'])\n",
    "XTest['Part'] = le.fit_transform(XTest['Part'])"
   ]
  },
  {
   "cell_type": "code",
   "execution_count": 20,
   "id": "684214d5",
   "metadata": {},
   "outputs": [
    {
     "name": "stderr",
     "output_type": "stream",
     "text": [
      "C:\\Users\\psalu\\AppData\\Local\\Temp\\ipykernel_24332\\27506835.py:1: SettingWithCopyWarning: \n",
      "A value is trying to be set on a copy of a slice from a DataFrame.\n",
      "Try using .loc[row_indexer,col_indexer] = value instead\n",
      "\n",
      "See the caveats in the documentation: https://pandas.pydata.org/pandas-docs/stable/user_guide/indexing.html#returning-a-view-versus-a-copy\n",
      "  yTest['UserID'] = yTest['UserID'].astype('category')\n"
     ]
    }
   ],
   "source": [
    "yTest['UserID'] = yTest['UserID'].astype('category')"
   ]
  },
  {
   "cell_type": "code",
   "execution_count": 21,
   "id": "061ce304",
   "metadata": {},
   "outputs": [],
   "source": [
    "import pickle"
   ]
  },
  {
   "cell_type": "code",
   "execution_count": 22,
   "id": "5bcf7440",
   "metadata": {},
   "outputs": [],
   "source": [
    "with open('svm_model.pickle', 'wb') as f:\n",
    "    pickle.dump(model, f)"
   ]
  },
  {
   "cell_type": "code",
   "execution_count": 23,
   "id": "9bb33ace",
   "metadata": {},
   "outputs": [
    {
     "name": "stdout",
     "output_type": "stream",
     "text": [
      "              precision    recall  f1-score   support\n",
      "\n",
      "     User001       1.00      1.00      1.00     26234\n",
      "    User0010       1.00      1.00      1.00     28278\n",
      "    User0011       1.00      1.00      1.00     20927\n",
      "    User0012       1.00      1.00      1.00     27921\n",
      "    User0013       1.00      1.00      1.00     27520\n",
      "    User0014       0.55      0.53      0.54     29507\n",
      "    User0015       1.00      1.00      1.00     30966\n",
      "    User0016       1.00      1.00      1.00     28572\n",
      "    User0017       1.00      1.00      1.00     24138\n",
      "     User002       1.00      1.00      1.00     25044\n",
      "     User003       1.00      1.00      1.00     24900\n",
      "     User004       1.00      1.00      1.00     29358\n",
      "     User005       1.00      1.00      1.00     24407\n",
      "     User006       1.00      1.00      1.00     29915\n",
      "     User007       1.00      1.00      1.00     24615\n",
      "     User008       1.00      1.00      1.00     31590\n",
      "     User009       0.58      0.60      0.59     32182\n",
      "\n",
      "    accuracy                           0.94    466074\n",
      "   macro avg       0.95      0.95      0.95    466074\n",
      "weighted avg       0.94      0.94      0.94    466074\n",
      "\n"
     ]
    }
   ],
   "source": [
    "# Evaluate the performance of the SVM model\n",
    "y_pred = model.predict(XTest)\n",
    "report = classification_report(yTest, y_pred)\n",
    "print(report)"
   ]
  },
  {
   "cell_type": "code",
   "execution_count": null,
   "id": "b731309b",
   "metadata": {},
   "outputs": [],
   "source": []
  }
 ],
 "metadata": {
  "kernelspec": {
   "display_name": "Python 3 (ipykernel)",
   "language": "python",
   "name": "python3"
  },
  "language_info": {
   "codemirror_mode": {
    "name": "ipython",
    "version": 3
   },
   "file_extension": ".py",
   "mimetype": "text/x-python",
   "name": "python",
   "nbconvert_exporter": "python",
   "pygments_lexer": "ipython3",
   "version": "3.10.9"
  }
 },
 "nbformat": 4,
 "nbformat_minor": 5
}
